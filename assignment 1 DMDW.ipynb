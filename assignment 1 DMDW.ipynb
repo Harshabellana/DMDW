{
 "cells": [
  {
   "cell_type": "code",
   "execution_count": 2,
   "id": "d9161b5b",
   "metadata": {},
   "outputs": [
    {
     "name": "stdout",
     "output_type": "stream",
     "text": [
      "Enter data23 23 34 56 22 55\n",
      "Mean of above data is  35.5\n"
     ]
    }
   ],
   "source": [
    "data=list(input(\"Enter data\").split())\n",
    "length=len(data)\n",
    "sum=0\n",
    "for i in data:\n",
    "    sum=sum+int(i)\n",
    "mean=sum/length\n",
    "print(\"Mean of above data is \",mean)"
   ]
  },
  {
   "cell_type": "code",
   "execution_count": 3,
   "id": "eff9a140",
   "metadata": {},
   "outputs": [
    {
     "name": "stdout",
     "output_type": "stream",
     "text": [
      "Enter data56 88 72 99 64 22\n",
      "Median of above data is  68.0\n"
     ]
    }
   ],
   "source": [
    "data=list(input(\"Enter data\").split())\n",
    "data.sort()\n",
    "x=len(data)\n",
    "y=x//2\n",
    "if x%2==0:\n",
    "    for i in data:\n",
    "        if i==data[y-1]:\n",
    "            median=(int(data[y-1])+int(data[y]))/2\n",
    "            break\n",
    "        else:\n",
    "            continue\n",
    "else:\n",
    "    median=int(data[y])\n",
    "print(\"Median of above data is \",median)\n"
   ]
  },
  {
   "cell_type": "code",
   "execution_count": 4,
   "id": "52b2cdab",
   "metadata": {},
   "outputs": [
    {
     "name": "stdout",
     "output_type": "stream",
     "text": [
      "Mode is / are: 3, 4\n"
     ]
    }
   ],
   "source": [
    "from collections import Counter\n",
    "n_num =[1,2,3,3,3,4,4,4,5]\n",
    "n = len(n_num)\n",
    "data = Counter(n_num)\n",
    "get_mode = dict(data)\n",
    "mode = [k for k, v in get_mode.items() if v==max(list(data.values()))]\n",
    "if len(mode) == n:\n",
    "    get_mode = \"No mode found\"\n",
    "else:\n",
    "    get_mode = \"Mode is / are: \" + ', '.join(map(str, mode))\n",
    "print(get_mode)"
   ]
  },
  {
   "cell_type": "code",
   "execution_count": 5,
   "id": "2110ee1e",
   "metadata": {},
   "outputs": [
    {
     "name": "stdout",
     "output_type": "stream",
     "text": [
      "Enter data45 55 77 83 67\n",
      "variance is  194.24\n",
      "Standard deviation is  13.937001112147477\n"
     ]
    }
   ],
   "source": [
    "import math\n",
    "data=list(input(\"Enter data\").split())\n",
    "length=len(data)\n",
    "sum=var=0\n",
    "for i in data:\n",
    "    sum=sum+int(i)\n",
    "mean=sum/length\n",
    "for x in data:\n",
    "    var=var+((int(x)-mean)**2)\n",
    "sd=math.sqrt(var/length)\n",
    "print(\"variance is \",var/length)\n",
    "print(\"Standard deviation is \",sd)"
   ]
  },
  {
   "cell_type": "code",
   "execution_count": null,
   "id": "9a64c47b",
   "metadata": {},
   "outputs": [],
   "source": []
  }
 ],
 "metadata": {
  "kernelspec": {
   "display_name": "Python 3 (ipykernel)",
   "language": "python",
   "name": "python3"
  },
  "language_info": {
   "codemirror_mode": {
    "name": "ipython",
    "version": 3
   },
   "file_extension": ".py",
   "mimetype": "text/x-python",
   "name": "python",
   "nbconvert_exporter": "python",
   "pygments_lexer": "ipython3",
   "version": "3.11.3"
  }
 },
 "nbformat": 4,
 "nbformat_minor": 5
}
